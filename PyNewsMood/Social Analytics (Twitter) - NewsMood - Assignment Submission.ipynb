{
 "cells": [
  {
   "cell_type": "code",
   "execution_count": 1,
   "metadata": {},
   "outputs": [],
   "source": [
    "#Import dependencies\n",
    "import tweepy\n",
    "import pandas as pd\n",
    "import numpy as np\n",
    "import matplotlib.pyplot as plt\n",
    "import seaborn as sns"
   ]
  },
  {
   "cell_type": "code",
   "execution_count": 2,
   "metadata": {},
   "outputs": [],
   "source": [
    "#Import date from datetime\n",
    "from datetime import date"
   ]
  },
  {
   "cell_type": "code",
   "execution_count": 3,
   "metadata": {},
   "outputs": [],
   "source": [
    "#Import Twitter Keys\n",
    "from config import (consumer_key, consumer_secret,\n",
    "                    access_token, access_token_secret)"
   ]
  },
  {
   "cell_type": "code",
   "execution_count": 4,
   "metadata": {},
   "outputs": [],
   "source": [
    "# Import and Initialize Sentiment Analyzer\n",
    "from vaderSentiment.vaderSentiment import SentimentIntensityAnalyzer"
   ]
  },
  {
   "cell_type": "code",
   "execution_count": 5,
   "metadata": {},
   "outputs": [],
   "source": [
    "analyzer = SentimentIntensityAnalyzer()"
   ]
  },
  {
   "cell_type": "code",
   "execution_count": 6,
   "metadata": {},
   "outputs": [],
   "source": [
    "consumer_key = consumer_key\n",
    "consumer_secret = consumer_secret\n",
    "access_token = access_token\n",
    "access_token_secret = access_token_secret"
   ]
  },
  {
   "cell_type": "code",
   "execution_count": 21,
   "metadata": {},
   "outputs": [],
   "source": [
    "# Setup Tweepy API Authentication\n",
    "auth = tweepy.OAuthHandler(consumer_key, consumer_secret)\n",
    "auth.set_access_token(access_token, access_token_secret)\n",
    "api = tweepy.API(auth, parser=tweepy.parsers.JSONParser())"
   ]
  },
  {
   "cell_type": "code",
   "execution_count": 22,
   "metadata": {},
   "outputs": [],
   "source": [
    "News_Channels = [\"BBC\",\"CBS\",\"CNN\",\"FOX\",\"NYTIMES\"]"
   ]
  },
  {
   "cell_type": "code",
   "execution_count": 23,
   "metadata": {},
   "outputs": [],
   "source": [
    "#Getting News tweets from News_Channels\n",
    "All_News_Data = []\n",
    "\n",
    "for news in News_Channels:\n",
    "    for page in range(1, 6):\n",
    "        All_tweet = api.user_timeline(news,page=page)\n",
    "        for tweet in All_tweet:\n",
    "            All_News_Data.append(tweet)  "
   ]
  },
  {
   "cell_type": "code",
   "execution_count": 24,
   "metadata": {},
   "outputs": [],
   "source": [
    "#Looping through all the tweets and running vader analysis\n",
    "BBC_compound = []\n",
    "CBS_compound = []\n",
    "CNN_compound = []\n",
    "FOX_compound = []\n",
    "NYT_compound = []\n",
    "\n",
    "for data in All_News_Data:\n",
    "    sname = data[\"user\"][\"screen_name\"]\n",
    "    if (sname == \"BBC\"):\n",
    "# Run Vader Analysis on each BBC tweet\n",
    "        BBC_results = analyzer.polarity_scores(data[\"text\"])\n",
    "        BBC_compound.append(round(BBC_results[\"compound\"],1))\n",
    "    elif (sname == \"CBS\"):\n",
    "# Run Vader Analysis on each CBS tweet\n",
    "        CBS_results = analyzer.polarity_scores(data[\"text\"])\n",
    "        CBS_compound.append(round(CBS_results[\"compound\"],1))\n",
    "    elif (sname == \"CNN\"):\n",
    "# Run Vader Analysis on each CNN tweet\n",
    "        CNN_results = analyzer.polarity_scores(data[\"text\"])\n",
    "        CNN_compound.append(round(CNN_results[\"compound\"],1))\n",
    "    elif (sname == \"fox\"):\n",
    "# Run Vader Analysis on each FOX tweet\n",
    "        FOX_results = analyzer.polarity_scores(data[\"text\"])\n",
    "        FOX_compound.append(round(FOX_results[\"compound\"],1))\n",
    "    else:\n",
    "# Run Vader Analysis on each New York Times tweet\n",
    "        NYT_results = analyzer.polarity_scores(data[\"text\"])\n",
    "        NYT_compound.append(round(NYT_results[\"compound\"],1))     "
   ]
  },
  {
   "cell_type": "code",
   "execution_count": 25,
   "metadata": {},
   "outputs": [],
   "source": [
    "#Creating dictionary with compound sentiments scores\n",
    "Sentiments = {\"BBC_compound\" : BBC_compound,\n",
    "              \"CBS_compound\" : CBS_compound,\n",
    "              \"CNN_compound\" : CNN_compound,\n",
    "              \"FOX_compound\" : FOX_compound,\n",
    "              \"NYT_compound\" : NYT_compound}"
   ]
  },
  {
   "cell_type": "code",
   "execution_count": 26,
   "metadata": {},
   "outputs": [
    {
     "data": {
      "text/html": [
       "<div>\n",
       "<table border=\"1\" class=\"dataframe\">\n",
       "  <thead>\n",
       "    <tr style=\"text-align: right;\">\n",
       "      <th></th>\n",
       "      <th>BBC_compound</th>\n",
       "      <th>CBS_compound</th>\n",
       "      <th>CNN_compound</th>\n",
       "      <th>FOX_compound</th>\n",
       "      <th>NYT_compound</th>\n",
       "    </tr>\n",
       "  </thead>\n",
       "  <tbody>\n",
       "    <tr>\n",
       "      <th>0</th>\n",
       "      <td>-0.3</td>\n",
       "      <td>0.0</td>\n",
       "      <td>0.0</td>\n",
       "      <td>0.0</td>\n",
       "      <td>0.7</td>\n",
       "    </tr>\n",
       "    <tr>\n",
       "      <th>1</th>\n",
       "      <td>0.0</td>\n",
       "      <td>0.8</td>\n",
       "      <td>-0.1</td>\n",
       "      <td>-0.2</td>\n",
       "      <td>-0.8</td>\n",
       "    </tr>\n",
       "    <tr>\n",
       "      <th>2</th>\n",
       "      <td>0.5</td>\n",
       "      <td>0.6</td>\n",
       "      <td>0.7</td>\n",
       "      <td>0.7</td>\n",
       "      <td>-0.4</td>\n",
       "    </tr>\n",
       "    <tr>\n",
       "      <th>3</th>\n",
       "      <td>-0.1</td>\n",
       "      <td>0.2</td>\n",
       "      <td>0.1</td>\n",
       "      <td>0.7</td>\n",
       "      <td>-0.8</td>\n",
       "    </tr>\n",
       "    <tr>\n",
       "      <th>4</th>\n",
       "      <td>0.0</td>\n",
       "      <td>0.4</td>\n",
       "      <td>-0.7</td>\n",
       "      <td>-0.6</td>\n",
       "      <td>0.9</td>\n",
       "    </tr>\n",
       "  </tbody>\n",
       "</table>\n",
       "</div>"
      ],
      "text/plain": [
       "   BBC_compound  CBS_compound  CNN_compound  FOX_compound  NYT_compound\n",
       "0          -0.3           0.0           0.0           0.0           0.7\n",
       "1           0.0           0.8          -0.1          -0.2          -0.8\n",
       "2           0.5           0.6           0.7           0.7          -0.4\n",
       "3          -0.1           0.2           0.1           0.7          -0.8\n",
       "4           0.0           0.4          -0.7          -0.6           0.9"
      ]
     },
     "execution_count": 26,
     "metadata": {},
     "output_type": "execute_result"
    }
   ],
   "source": [
    "#Creating dataframe of sentiments\n",
    "Sentiments_df = pd.DataFrame(Sentiments)\n",
    "Sentiments_df.head()"
   ]
  },
  {
   "cell_type": "code",
   "execution_count": 28,
   "metadata": {
    "scrolled": false
   },
   "outputs": [
    {
     "data": {
      "text/html": [
       "<div>\n",
       "<table border=\"1\" class=\"dataframe\">\n",
       "  <thead>\n",
       "    <tr style=\"text-align: right;\">\n",
       "      <th></th>\n",
       "      <th>BBC_compound</th>\n",
       "      <th>CBS_compound</th>\n",
       "      <th>CNN_compound</th>\n",
       "      <th>FOX_compound</th>\n",
       "      <th>NYT_compound</th>\n",
       "      <th>Tweets_ago</th>\n",
       "    </tr>\n",
       "  </thead>\n",
       "  <tbody>\n",
       "    <tr>\n",
       "      <th>0</th>\n",
       "      <td>-0.3</td>\n",
       "      <td>0.0</td>\n",
       "      <td>0.0</td>\n",
       "      <td>0.0</td>\n",
       "      <td>0.7</td>\n",
       "      <td>100</td>\n",
       "    </tr>\n",
       "    <tr>\n",
       "      <th>1</th>\n",
       "      <td>0.0</td>\n",
       "      <td>0.8</td>\n",
       "      <td>-0.1</td>\n",
       "      <td>-0.2</td>\n",
       "      <td>-0.8</td>\n",
       "      <td>99</td>\n",
       "    </tr>\n",
       "    <tr>\n",
       "      <th>2</th>\n",
       "      <td>0.5</td>\n",
       "      <td>0.6</td>\n",
       "      <td>0.7</td>\n",
       "      <td>0.7</td>\n",
       "      <td>-0.4</td>\n",
       "      <td>98</td>\n",
       "    </tr>\n",
       "    <tr>\n",
       "      <th>3</th>\n",
       "      <td>-0.1</td>\n",
       "      <td>0.2</td>\n",
       "      <td>0.1</td>\n",
       "      <td>0.7</td>\n",
       "      <td>-0.8</td>\n",
       "      <td>97</td>\n",
       "    </tr>\n",
       "    <tr>\n",
       "      <th>4</th>\n",
       "      <td>0.0</td>\n",
       "      <td>0.4</td>\n",
       "      <td>-0.7</td>\n",
       "      <td>-0.6</td>\n",
       "      <td>0.9</td>\n",
       "      <td>96</td>\n",
       "    </tr>\n",
       "  </tbody>\n",
       "</table>\n",
       "</div>"
      ],
      "text/plain": [
       "   BBC_compound  CBS_compound  CNN_compound  FOX_compound  NYT_compound  \\\n",
       "0          -0.3           0.0           0.0           0.0           0.7   \n",
       "1           0.0           0.8          -0.1          -0.2          -0.8   \n",
       "2           0.5           0.6           0.7           0.7          -0.4   \n",
       "3          -0.1           0.2           0.1           0.7          -0.8   \n",
       "4           0.0           0.4          -0.7          -0.6           0.9   \n",
       "\n",
       "   Tweets_ago  \n",
       "0         100  \n",
       "1          99  \n",
       "2          98  \n",
       "3          97  \n",
       "4          96  "
      ]
     },
     "execution_count": 28,
     "metadata": {},
     "output_type": "execute_result"
    }
   ],
   "source": [
    "#Adding the sequence in which the tweets were added 100 being the order of the most recent ones\n",
    "Sentiments_df[\"Tweets_ago\"] = np.arange(100,0,-1)\n",
    "Sentiments_df.head()"
   ]
  },
  {
   "cell_type": "code",
   "execution_count": 30,
   "metadata": {},
   "outputs": [],
   "source": [
    "#Saving the dataframe to CSV file\n",
    "Sentiments_df.to_csv(\"MyFiles/Sentiment_df.csv\")"
   ]
  },
  {
   "cell_type": "code",
   "execution_count": 31,
   "metadata": {},
   "outputs": [
    {
     "data": {
      "image/png": "[encoded data removed]",
      "text/plain": [
       "<matplotlib.figure.Figure at 0x1ac527899e8>"
      ]
     },
     "metadata": {},
     "output_type": "display_data"
    }
   ],
   "source": [
    "#Plotting the scatter plots\n",
    "fig,ax=plt.subplots()\n",
    "ax.scatter(Sentiments_df[\"Tweets_ago\"],Sentiments_df[\"BBC_compound\"],color=\"aqua\",edgecolor=\"black\",label=\"BBC\")\n",
    "ax.scatter(Sentiments_df[\"Tweets_ago\"],Sentiments_df[\"CBS_compound\"],color=\"green\",edgecolor=\"black\",label=\"CBS\")\n",
    "ax.scatter(Sentiments_df[\"Tweets_ago\"],Sentiments_df[\"CNN_compound\"],color=\"red\",edgecolor=\"black\",label=\"CNN\")\n",
    "ax.scatter(Sentiments_df[\"Tweets_ago\"],Sentiments_df[\"FOX_compound\"],color=\"blue\",edgecolor=\"black\",label=\"Fox\")\n",
    "ax.scatter(Sentiments_df[\"Tweets_ago\"],Sentiments_df[\"NYT_compound\"],color=\"yellow\",edgecolor=\"black\",label=\"NYT\")\n",
    "plt.legend(title=\"Media Sources\",loc=(1.02,.65))\n",
    "plt.xlabel(\"Tweets ago\")\n",
    "plt.ylabel(\"Tweet Polarity\")\n",
    "plt.title(f\"Sentiment Analysis of Media Tweets ({date.today().strftime('%m/%d/%Y')})\")\n",
    "plt.yticks(np.arange(-1,1.5,.5))\n",
    "plt.xlim(105,-5)\n",
    "plt.ylim(-1.1,1.1)\n",
    "sns.set_style(\"dark\")\n",
    "plt.grid()\n",
    "plt.tight_layout()\n",
    "plt.savefig(\"MyImages/Sentiment Analysis of Media Tweets\")\n",
    "plt.show()"
   ]
  },
  {
   "cell_type": "code",
   "execution_count": 32,
   "metadata": {},
   "outputs": [],
   "source": [
    "#Calculating the mean of the compound sentiments\n",
    "Compound_mean = [round(np.mean(BBC_compound),2),round(np.mean(CBS_compound),2),\n",
    "                 round(np.mean(CNN_compound),2),round(np.mean(FOX_compound),2),\n",
    "                round(np.mean(NYT_compound),2)]"
   ]
  },
  {
   "cell_type": "code",
   "execution_count": 33,
   "metadata": {},
   "outputs": [
    {
     "data": {
      "text/html": [
       "<div>\n",
       "<table border=\"1\" class=\"dataframe\">\n",
       "  <thead>\n",
       "    <tr style=\"text-align: right;\">\n",
       "      <th></th>\n",
       "      <th>Sentiments</th>\n",
       "      <th>News_Channels</th>\n",
       "    </tr>\n",
       "  </thead>\n",
       "  <tbody>\n",
       "    <tr>\n",
       "      <th>0</th>\n",
       "      <td>0.13</td>\n",
       "      <td>BBC</td>\n",
       "    </tr>\n",
       "    <tr>\n",
       "      <th>1</th>\n",
       "      <td>0.36</td>\n",
       "      <td>CBS</td>\n",
       "    </tr>\n",
       "    <tr>\n",
       "      <th>2</th>\n",
       "      <td>-0.04</td>\n",
       "      <td>CNN</td>\n",
       "    </tr>\n",
       "    <tr>\n",
       "      <th>3</th>\n",
       "      <td>0.24</td>\n",
       "      <td>FOX</td>\n",
       "    </tr>\n",
       "    <tr>\n",
       "      <th>4</th>\n",
       "      <td>-0.02</td>\n",
       "      <td>NYTIMES</td>\n",
       "    </tr>\n",
       "  </tbody>\n",
       "</table>\n",
       "</div>"
      ],
      "text/plain": [
       "   Sentiments News_Channels\n",
       "0        0.13           BBC\n",
       "1        0.36           CBS\n",
       "2       -0.04           CNN\n",
       "3        0.24           FOX\n",
       "4       -0.02       NYTIMES"
      ]
     },
     "execution_count": 33,
     "metadata": {},
     "output_type": "execute_result"
    }
   ],
   "source": [
    "#Creating the Dataframe of the mean of the compound sentiments\n",
    "Sentiments_mean_df = pd.DataFrame(News_Channels,Compound_mean)\n",
    "Sentiments_mean_df = Sentiments_mean_df.reset_index()\n",
    "Sentiments_mean_df = Sentiments_mean_df.rename(columns={0:\"News_Channels\",\"index\":\"Sentiments\"})\n",
    "Sentiments_mean_df"
   ]
  },
  {
   "cell_type": "code",
   "execution_count": 34,
   "metadata": {},
   "outputs": [],
   "source": [
    "#Saving the dataframe to CSV file\n",
    "Sentiments_mean_df.to_csv(\"MyFiles/Sentiments_mean_df.csv\")"
   ]
  },
  {
   "cell_type": "code",
   "execution_count": 35,
   "metadata": {},
   "outputs": [
    {
     "data": {
      "image/png": "[encoded data removed]",
      "text/plain": [
       "<matplotlib.figure.Figure at 0x1ac521511d0>"
      ]
     },
     "metadata": {},
     "output_type": "display_data"
    }
   ],
   "source": [
    "#Plotting the bar graph of the mean sentiment of all the channels\n",
    "x_ticks = np.arange(len(Sentiments_mean_df[\"News_Channels\"]))\n",
    "colors = ['aqua', 'green','red', 'blue', 'yellow']\n",
    "\n",
    "bars = plt.bar(x_ticks,Sentiments_mean_df[\"Sentiments\"],color=colors,edgecolor = \"black\")\n",
    "\n",
    "plt.hlines(0, 0, len(x_ticks), alpha=0.2)\n",
    "plt.xticks(x_ticks,News_Channels)\n",
    "plt.ylim(Sentiments_mean_df[\"Sentiments\"].min()-0.05,Sentiments_mean_df[\"Sentiments\"].max()+0.05)\n",
    "plt.ylabel(\"Tweet Polarity\")\n",
    "plt.title(f\"Overall Sentiment Based on Twitter ({date.today().strftime('%m/%d/%Y')})\")\n",
    "sns.set_style(\"dark\")\n",
    "plt.grid()\n",
    "for a,b in zip(x_ticks, Sentiments_mean_df[\"Sentiments\"]):\n",
    "    if (b <0):\n",
    "        plt.text(a-0.12, b-0.04, str(b))\n",
    "    else:\n",
    "        plt.text(a-0.12, b+0.01, str(b))\n",
    "plt.savefig(\"MyImages/Overall Sentiment Based on Twitter\")\n",
    "plt.show()"
   ]
  },
  {
   "cell_type": "code",
   "execution_count": null,
   "metadata": {},
   "outputs": [],
   "source": []
  }
 ],
 "metadata": {
  "kernelspec": {
   "display_name": "Python 3",
   "language": "python",
   "name": "python3"
  },
  "language_info": {
   "codemirror_mode": {
    "name": "ipython",
    "version": 3
   },
   "file_extension": ".py",
   "mimetype": "text/x-python",
   "name": "python",
   "nbconvert_exporter": "python",
   "pygments_lexer": "ipython3",
   "version": "3.6.0"
  }
 },
 "nbformat": 4,
 "nbformat_minor": 2
}
