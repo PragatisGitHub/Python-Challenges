{
 "cells": [
  {
   "cell_type": "markdown",
   "metadata": {},
   "source": [
    "## Unit 5 | Assignment - The Power of Plots\n",
    "\n",
    "## Pymaceuticals Inc\n",
    "\n",
    "![Laboratory](Images/Laboratory.jpg)\n",
    "\n",
    "Pymaceuticals Inc., a burgeoning pharmaceutical company based out of San Diego, CA. Pymaceuticals specializes in drug-based, anti-cancer pharmaceuticals. In their most recent efforts, they've since begun screening for potential treatments to squamous cell carcinoma (SCC), a commonly occurring form of skin cancer.\n",
    "\n",
    "As their Chief Data Analyst, you've been given access to the complete data from their most recent animal study. In this study, 250 mice were treated through a variety of drug regimes over the course of 45 days. Their physiological responses were then monitored over the course of that time. Your objective is to analyze the data to show how four treatments (Capomulin, Infubinol, Ketapril, and Placebo) compare.\n",
    "\n",
    "To do this you are tasked with:\n",
    "\n",
    "* Creating a scatter plot that shows how the tumor volume changes over time for each treatment.\n",
    "* Creating a scatter plot that shows how the number of [metastatic](https://en.wikipedia.org/wiki/Metastasis) (cancer spreading) sites changes over time for each treatment.\n",
    "* Creating a scatter plot that shows the number of mice still alive through the course of treatment (Survival Rate)\n",
    "* Creating a bar graph that compares the total % tumor volume change for each drug across the full 45 days.\n",
    "\n",
    "As final considerations:\n",
    "\n",
    "* You must use the Pandas Library and the Jupyter Notebook.\n",
    "* You must use the Matplotlib and Seaborn libraries.\n",
    "* You must include a written description of three observable trends based on the data.\n",
    "* You must use proper labeling of your plots, including aspects like: Plot Titles, Axes Labels, Legend Labels, X and Y Axis Limits, etc.\n",
    "* Your scatter plots must include [error bars](https://en.wikipedia.org/wiki/Error_bar). This will allow the company to account for variability between mice. You may want to look into [`pandas.DataFrame.sem`](http://pandas.pydata.org/pandas-docs/stable/generated/pandas.DataFrame.sem.html) for ideas on how to calculate this.\n",
    "* Remember when making your plots to consider aesthetics!\n",
    "  * Your legends should not be overlaid on top of any data.\n",
    "  * Your bar graph should indicate tumor growth as red and tumor reduction as green.\n",
    "    It should also include a label with the percentage change for each bar. You may want to consult this [tutorial](http://composition.al/blog/2015/11/29/a-better-way-to-add-labels-to-bar-charts-with-matplotlib/) for relevant code snippets.\n",
    "* You must include an exported markdown version of your Notebook called  `README.md` in your GitHub repository.\n",
    "* See [Example Solution](Pymaceuticals/Pymaceuticals_Example.pdf) for a reference on expected format. (Note: For this example, you are not required to match the tables or data frames included. Your only goal is to build the scatter plots and bar graphs. Consider the tables to be potential clues, but feel free to approach this problem, however, you like.)\n",
    "\n",
    "## Copyright\n",
    "\n",
    "Coding Boot Camp (C) 2016. All Rights Reserved.\n"
   ]
  },
  {
   "cell_type": "markdown",
   "metadata": {},
   "source": [
    "Analysis:\n",
    "    \n",
    "Observed trend 1 - From the Tumor Response to Treatment plot, we can deduce \n",
    "that only the Capomulin medicine is treating the tumor and reducing the volume of the tumor as compared to the other drugs.\n",
    "\n",
    "Observed trend 2 - From the Survival During treatment plot, we can deduce \n",
    "that the the survival rate is more with the use of Capomulin medicine as compared to the other drugs.\n",
    "\n",
    "Observed trend 3 - From the Tumor Over 45 Days Treament plot, we can deduce \n",
    "that only the Capomulin medicine is treating the tumor with maximum percentage reduction in volume as compared to the other drugs."
   ]
  },
  {
   "cell_type": "code",
   "execution_count": 1,
   "metadata": {},
   "outputs": [],
   "source": [
    "#Importing Dependencies\n",
    "import pandas as pd\n",
    "import numpy as np\n",
    "import matplotlib.pyplot as plt\n",
    "from scipy import stats"
   ]
  },
  {
   "cell_type": "code",
   "execution_count": 2,
   "metadata": {},
   "outputs": [],
   "source": [
    "#Path to the files\n",
    "path = \"raw_data/\"\n",
    "\n",
    "#Reading the files and creating the dataframes\n",
    "clinicaltrial = pd.read_csv(path+\"clinicaltrial_data.csv\")\n",
    "mouse_drug = pd.read_csv(path+\"mouse_drug_data.csv\")"
   ]
  },
  {
   "cell_type": "code",
   "execution_count": 3,
   "metadata": {},
   "outputs": [],
   "source": [
    "#Merge the two dataframe on the mouse id\n",
    "Clinicaltrial_mouse_drug = pd.merge(clinicaltrial,mouse_drug, on=\"Mouse ID\",how =\"left\")\n",
    "CMD = Clinicaltrial_mouse_drug"
   ]
  },
  {
   "cell_type": "markdown",
   "metadata": {
    "collapsed": true
   },
   "source": [
    "# Tumor Response to the Treatment"
   ]
  },
  {
   "cell_type": "code",
   "execution_count": 4,
   "metadata": {},
   "outputs": [
    {
     "data": {
      "text/html": [
       "<div>\n",
       "<table border=\"1\" class=\"dataframe\">\n",
       "  <thead>\n",
       "    <tr style=\"text-align: right;\">\n",
       "      <th></th>\n",
       "      <th>Drug</th>\n",
       "      <th>Timepoint</th>\n",
       "      <th>Tumor Volume (mm3)</th>\n",
       "    </tr>\n",
       "  </thead>\n",
       "  <tbody>\n",
       "    <tr>\n",
       "      <th>0</th>\n",
       "      <td>Capomulin</td>\n",
       "      <td>0</td>\n",
       "      <td>45.0</td>\n",
       "    </tr>\n",
       "    <tr>\n",
       "      <th>1</th>\n",
       "      <td>Ketapril</td>\n",
       "      <td>0</td>\n",
       "      <td>45.0</td>\n",
       "    </tr>\n",
       "    <tr>\n",
       "      <th>2</th>\n",
       "      <td>Ketapril</td>\n",
       "      <td>0</td>\n",
       "      <td>45.0</td>\n",
       "    </tr>\n",
       "    <tr>\n",
       "      <th>3</th>\n",
       "      <td>Ketapril</td>\n",
       "      <td>0</td>\n",
       "      <td>45.0</td>\n",
       "    </tr>\n",
       "    <tr>\n",
       "      <th>4</th>\n",
       "      <td>Ketapril</td>\n",
       "      <td>0</td>\n",
       "      <td>45.0</td>\n",
       "    </tr>\n",
       "  </tbody>\n",
       "</table>\n",
       "</div>"
      ],
      "text/plain": [
       "        Drug  Timepoint  Tumor Volume (mm3)\n",
       "0  Capomulin          0                45.0\n",
       "1   Ketapril          0                45.0\n",
       "2   Ketapril          0                45.0\n",
       "3   Ketapril          0                45.0\n",
       "4   Ketapril          0                45.0"
      ]
     },
     "execution_count": 4,
     "metadata": {},
     "output_type": "execute_result"
    }
   ],
   "source": [
    "CMD_TumVol = CMD.loc[:,[\"Drug\",\"Timepoint\",\"Tumor Volume (mm3)\"]]\n",
    "CMD_TumVol.head()"
   ]
  },
  {
   "cell_type": "code",
   "execution_count": 5,
   "metadata": {},
   "outputs": [],
   "source": [
    "CMD_TumVol_G = CMD_TumVol.groupby([\"Drug\",\"Timepoint\"])[\"Tumor Volume (mm3)\"].mean()"
   ]
  },
  {
   "cell_type": "code",
   "execution_count": 6,
   "metadata": {},
   "outputs": [
    {
     "data": {
      "text/html": [
       "<div>\n",
       "<table border=\"1\" class=\"dataframe\">\n",
       "  <thead>\n",
       "    <tr style=\"text-align: right;\">\n",
       "      <th></th>\n",
       "      <th></th>\n",
       "      <th>Tumor Volume (mm3)</th>\n",
       "    </tr>\n",
       "    <tr>\n",
       "      <th>Drug</th>\n",
       "      <th>Timepoint</th>\n",
       "      <th></th>\n",
       "    </tr>\n",
       "  </thead>\n",
       "  <tbody>\n",
       "    <tr>\n",
       "      <th rowspan=\"5\" valign=\"top\">Capomulin</th>\n",
       "      <th>0</th>\n",
       "      <td>45.000000</td>\n",
       "    </tr>\n",
       "    <tr>\n",
       "      <th>5</th>\n",
       "      <td>44.266086</td>\n",
       "    </tr>\n",
       "    <tr>\n",
       "      <th>10</th>\n",
       "      <td>43.084291</td>\n",
       "    </tr>\n",
       "    <tr>\n",
       "      <th>15</th>\n",
       "      <td>42.064317</td>\n",
       "    </tr>\n",
       "    <tr>\n",
       "      <th>20</th>\n",
       "      <td>40.716325</td>\n",
       "    </tr>\n",
       "  </tbody>\n",
       "</table>\n",
       "</div>"
      ],
      "text/plain": [
       "                     Tumor Volume (mm3)\n",
       "Drug      Timepoint                    \n",
       "Capomulin 0                   45.000000\n",
       "          5                   44.266086\n",
       "          10                  43.084291\n",
       "          15                  42.064317\n",
       "          20                  40.716325"
      ]
     },
     "execution_count": 6,
     "metadata": {},
     "output_type": "execute_result"
    }
   ],
   "source": [
    "CMD_TumVol_GD = pd.DataFrame(CMD_TumVol_G)\n",
    "CMD_TumVol_GD.head() #Display"
   ]
  },
  {
   "cell_type": "code",
   "execution_count": 7,
   "metadata": {},
   "outputs": [],
   "source": [
    "CMD_TumVol_P = CMD_TumVol_G.reset_index()"
   ]
  },
  {
   "cell_type": "code",
   "execution_count": 8,
   "metadata": {},
   "outputs": [
    {
     "data": {
      "text/html": [
       "<div>\n",
       "<table border=\"1\" class=\"dataframe\">\n",
       "  <thead>\n",
       "    <tr style=\"text-align: right;\">\n",
       "      <th></th>\n",
       "      <th>Drug</th>\n",
       "      <th>Timepoint</th>\n",
       "      <th>Tumor Volume (mm3)</th>\n",
       "    </tr>\n",
       "  </thead>\n",
       "  <tbody>\n",
       "    <tr>\n",
       "      <th>0</th>\n",
       "      <td>Capomulin</td>\n",
       "      <td>0</td>\n",
       "      <td>45.000000</td>\n",
       "    </tr>\n",
       "    <tr>\n",
       "      <th>1</th>\n",
       "      <td>Capomulin</td>\n",
       "      <td>5</td>\n",
       "      <td>44.266086</td>\n",
       "    </tr>\n",
       "    <tr>\n",
       "      <th>2</th>\n",
       "      <td>Capomulin</td>\n",
       "      <td>10</td>\n",
       "      <td>43.084291</td>\n",
       "    </tr>\n",
       "    <tr>\n",
       "      <th>3</th>\n",
       "      <td>Capomulin</td>\n",
       "      <td>15</td>\n",
       "      <td>42.064317</td>\n",
       "    </tr>\n",
       "    <tr>\n",
       "      <th>4</th>\n",
       "      <td>Capomulin</td>\n",
       "      <td>20</td>\n",
       "      <td>40.716325</td>\n",
       "    </tr>\n",
       "  </tbody>\n",
       "</table>\n",
       "</div>"
      ],
      "text/plain": [
       "        Drug  Timepoint  Tumor Volume (mm3)\n",
       "0  Capomulin          0           45.000000\n",
       "1  Capomulin          5           44.266086\n",
       "2  Capomulin         10           43.084291\n",
       "3  Capomulin         15           42.064317\n",
       "4  Capomulin         20           40.716325"
      ]
     },
     "execution_count": 8,
     "metadata": {},
     "output_type": "execute_result"
    }
   ],
   "source": [
    "CMD_TumVol_PD= pd.DataFrame(CMD_TumVol_P)\n",
    "CMD_TumVol_PD.head() #No need to display"
   ]
  },
  {
   "cell_type": "code",
   "execution_count": 9,
   "metadata": {
    "scrolled": false
   },
   "outputs": [
    {
     "data": {
      "text/html": [
       "<div>\n",
       "<table border=\"1\" class=\"dataframe\">\n",
       "  <thead>\n",
       "    <tr style=\"text-align: right;\">\n",
       "      <th>Drug</th>\n",
       "      <th>Capomulin</th>\n",
       "      <th>Ceftamin</th>\n",
       "      <th>Infubinol</th>\n",
       "      <th>Ketapril</th>\n",
       "      <th>Naftisol</th>\n",
       "      <th>Placebo</th>\n",
       "      <th>Propriva</th>\n",
       "      <th>Ramicane</th>\n",
       "      <th>Stelasyn</th>\n",
       "      <th>Zoniferol</th>\n",
       "    </tr>\n",
       "    <tr>\n",
       "      <th>Timepoint</th>\n",
       "      <th></th>\n",
       "      <th></th>\n",
       "      <th></th>\n",
       "      <th></th>\n",
       "      <th></th>\n",
       "      <th></th>\n",
       "      <th></th>\n",
       "      <th></th>\n",
       "      <th></th>\n",
       "      <th></th>\n",
       "    </tr>\n",
       "  </thead>\n",
       "  <tbody>\n",
       "    <tr>\n",
       "      <th>0</th>\n",
       "      <td>45.000000</td>\n",
       "      <td>45.000000</td>\n",
       "      <td>45.000000</td>\n",
       "      <td>45.000000</td>\n",
       "      <td>45.000000</td>\n",
       "      <td>45.000000</td>\n",
       "      <td>45.000000</td>\n",
       "      <td>45.000000</td>\n",
       "      <td>45.000000</td>\n",
       "      <td>45.000000</td>\n",
       "    </tr>\n",
       "    <tr>\n",
       "      <th>5</th>\n",
       "      <td>44.266086</td>\n",
       "      <td>46.503051</td>\n",
       "      <td>47.062001</td>\n",
       "      <td>47.389175</td>\n",
       "      <td>46.796098</td>\n",
       "      <td>47.125589</td>\n",
       "      <td>47.248967</td>\n",
       "      <td>43.944859</td>\n",
       "      <td>47.527452</td>\n",
       "      <td>46.851818</td>\n",
       "    </tr>\n",
       "    <tr>\n",
       "      <th>10</th>\n",
       "      <td>43.084291</td>\n",
       "      <td>48.285125</td>\n",
       "      <td>49.403909</td>\n",
       "      <td>49.582269</td>\n",
       "      <td>48.694210</td>\n",
       "      <td>49.423329</td>\n",
       "      <td>49.101541</td>\n",
       "      <td>42.531957</td>\n",
       "      <td>49.463844</td>\n",
       "      <td>48.689881</td>\n",
       "    </tr>\n",
       "    <tr>\n",
       "      <th>15</th>\n",
       "      <td>42.064317</td>\n",
       "      <td>50.094055</td>\n",
       "      <td>51.296397</td>\n",
       "      <td>52.399974</td>\n",
       "      <td>50.933018</td>\n",
       "      <td>51.359742</td>\n",
       "      <td>51.067318</td>\n",
       "      <td>41.495061</td>\n",
       "      <td>51.529409</td>\n",
       "      <td>50.779059</td>\n",
       "    </tr>\n",
       "    <tr>\n",
       "      <th>20</th>\n",
       "      <td>40.716325</td>\n",
       "      <td>52.157049</td>\n",
       "      <td>53.197691</td>\n",
       "      <td>54.920935</td>\n",
       "      <td>53.644087</td>\n",
       "      <td>54.364417</td>\n",
       "      <td>53.346737</td>\n",
       "      <td>40.238325</td>\n",
       "      <td>54.067395</td>\n",
       "      <td>53.170334</td>\n",
       "    </tr>\n",
       "    <tr>\n",
       "      <th>25</th>\n",
       "      <td>39.939528</td>\n",
       "      <td>54.287674</td>\n",
       "      <td>55.715252</td>\n",
       "      <td>57.678982</td>\n",
       "      <td>56.731968</td>\n",
       "      <td>57.482574</td>\n",
       "      <td>55.504138</td>\n",
       "      <td>38.974300</td>\n",
       "      <td>56.166123</td>\n",
       "      <td>55.432935</td>\n",
       "    </tr>\n",
       "    <tr>\n",
       "      <th>30</th>\n",
       "      <td>38.769339</td>\n",
       "      <td>56.769517</td>\n",
       "      <td>58.299397</td>\n",
       "      <td>60.994507</td>\n",
       "      <td>59.559509</td>\n",
       "      <td>59.809063</td>\n",
       "      <td>58.196374</td>\n",
       "      <td>38.703137</td>\n",
       "      <td>59.826738</td>\n",
       "      <td>57.713531</td>\n",
       "    </tr>\n",
       "    <tr>\n",
       "      <th>35</th>\n",
       "      <td>37.816839</td>\n",
       "      <td>58.827548</td>\n",
       "      <td>60.742461</td>\n",
       "      <td>63.371686</td>\n",
       "      <td>62.685087</td>\n",
       "      <td>62.420615</td>\n",
       "      <td>60.350199</td>\n",
       "      <td>37.451996</td>\n",
       "      <td>62.440699</td>\n",
       "      <td>60.089372</td>\n",
       "    </tr>\n",
       "    <tr>\n",
       "      <th>40</th>\n",
       "      <td>36.958001</td>\n",
       "      <td>61.467895</td>\n",
       "      <td>63.162824</td>\n",
       "      <td>66.068580</td>\n",
       "      <td>65.600754</td>\n",
       "      <td>65.052675</td>\n",
       "      <td>63.045537</td>\n",
       "      <td>36.574081</td>\n",
       "      <td>65.356386</td>\n",
       "      <td>62.916692</td>\n",
       "    </tr>\n",
       "    <tr>\n",
       "      <th>45</th>\n",
       "      <td>36.236114</td>\n",
       "      <td>64.132421</td>\n",
       "      <td>65.755562</td>\n",
       "      <td>70.662958</td>\n",
       "      <td>69.265506</td>\n",
       "      <td>68.084082</td>\n",
       "      <td>66.258529</td>\n",
       "      <td>34.955595</td>\n",
       "      <td>68.438310</td>\n",
       "      <td>65.960888</td>\n",
       "    </tr>\n",
       "  </tbody>\n",
       "</table>\n",
       "</div>"
      ],
      "text/plain": [
       "Drug       Capomulin   Ceftamin  Infubinol   Ketapril   Naftisol    Placebo  \\\n",
       "Timepoint                                                                     \n",
       "0          45.000000  45.000000  45.000000  45.000000  45.000000  45.000000   \n",
       "5          44.266086  46.503051  47.062001  47.389175  46.796098  47.125589   \n",
       "10         43.084291  48.285125  49.403909  49.582269  48.694210  49.423329   \n",
       "15         42.064317  50.094055  51.296397  52.399974  50.933018  51.359742   \n",
       "20         40.716325  52.157049  53.197691  54.920935  53.644087  54.364417   \n",
       "25         39.939528  54.287674  55.715252  57.678982  56.731968  57.482574   \n",
       "30         38.769339  56.769517  58.299397  60.994507  59.559509  59.809063   \n",
       "35         37.816839  58.827548  60.742461  63.371686  62.685087  62.420615   \n",
       "40         36.958001  61.467895  63.162824  66.068580  65.600754  65.052675   \n",
       "45         36.236114  64.132421  65.755562  70.662958  69.265506  68.084082   \n",
       "\n",
       "Drug        Propriva   Ramicane   Stelasyn  Zoniferol  \n",
       "Timepoint                                              \n",
       "0          45.000000  45.000000  45.000000  45.000000  \n",
       "5          47.248967  43.944859  47.527452  46.851818  \n",
       "10         49.101541  42.531957  49.463844  48.689881  \n",
       "15         51.067318  41.495061  51.529409  50.779059  \n",
       "20         53.346737  40.238325  54.067395  53.170334  \n",
       "25         55.504138  38.974300  56.166123  55.432935  \n",
       "30         58.196374  38.703137  59.826738  57.713531  \n",
       "35         60.350199  37.451996  62.440699  60.089372  \n",
       "40         63.045537  36.574081  65.356386  62.916692  \n",
       "45         66.258529  34.955595  68.438310  65.960888  "
      ]
     },
     "execution_count": 9,
     "metadata": {},
     "output_type": "execute_result"
    }
   ],
   "source": [
    "CMD_TumVol_PivotTable = CMD_TumVol_PD.pivot_table(values='Tumor Volume (mm3)',index=\"Timepoint\",\n",
    "                                                     columns=\"Drug\")\n",
    "CMD_TumVol_PivotTable #Display"
   ]
  },
  {
   "cell_type": "code",
   "execution_count": 10,
   "metadata": {},
   "outputs": [],
   "source": [
    "#Method 1 - Plotting without errorbar"
   ]
  },
  {
   "cell_type": "code",
   "execution_count": 11,
   "metadata": {},
   "outputs": [
    {
     "data": {
      "image/png": "[encoded data removed]",
      "text/plain": [
       "<matplotlib.figure.Figure at 0x177640c7a90>"
      ]
     },
     "metadata": {},
     "output_type": "display_data"
    }
   ],
   "source": [
    "HandleC,= plt.plot(CMD_TumVol_PivotTable.index, CMD_TumVol_PivotTable[\"Capomulin\"],\n",
    "          linewidth=0.5,color=\"r\",linestyle=\"--\",marker='o',markeredgecolor=\"black\",label=\"Capomulin\")\n",
    "HandleI,= plt.plot(CMD_TumVol_PivotTable.index, CMD_TumVol_PivotTable[\"Infubinol\"],\n",
    "          linewidth=0.5,color=\"b\",linestyle=\"--\",marker='^',markeredgecolor=\"black\",label=\"Infubinol\")\n",
    "HandleK,= plt.plot(CMD_TumVol_PivotTable.index, CMD_TumVol_PivotTable[\"Ketapril\"],\n",
    "          linewidth=0.5,color=\"g\",linestyle=\"--\",marker='s',markeredgecolor=\"black\",label=\"Ketapril\")\n",
    "HandleP,= plt.plot(CMD_TumVol_PivotTable.index, CMD_TumVol_PivotTable[\"Placebo\"],\n",
    "          linewidth=0.5,color=\"black\",linestyle=\"--\",marker='d',markeredgecolor=\"black\",label=\"Placebo\")\n",
    "plt.legend(handles=[HandleC,HandleI,HandleK,HandleP],numpoints=2)\n",
    "plt.xlim(0,CMD[\"Timepoint\"].max())\n",
    "plt.ylim(0,CMD[\"Tumor Volume (mm3)\"].max()+10)\n",
    "plt.xlabel(\"Time(Days)\")\n",
    "plt.ylabel(\"Tumor Volume (mm3)\")\n",
    "plt.title(\"Tumor response to treatment\")\n",
    "plt.grid(color='black', linestyle=':',alpha=0.5)\n",
    "plt.tight_layout()\n",
    "plt.show()\n",
    "plt.show()"
   ]
  },
  {
   "cell_type": "code",
   "execution_count": 12,
   "metadata": {},
   "outputs": [],
   "source": [
    "#Method 2 - With errorbar"
   ]
  },
  {
   "cell_type": "code",
   "execution_count": 13,
   "metadata": {},
   "outputs": [
    {
     "data": {
      "text/html": [
       "<div>\n",
       "<table border=\"1\" class=\"dataframe\">\n",
       "  <thead>\n",
       "    <tr style=\"text-align: right;\">\n",
       "      <th>Drug</th>\n",
       "      <th>Capomulin</th>\n",
       "      <th>Ceftamin</th>\n",
       "      <th>Infubinol</th>\n",
       "      <th>Ketapril</th>\n",
       "      <th>Naftisol</th>\n",
       "      <th>Placebo</th>\n",
       "      <th>Propriva</th>\n",
       "      <th>Ramicane</th>\n",
       "      <th>Stelasyn</th>\n",
       "      <th>Zoniferol</th>\n",
       "    </tr>\n",
       "    <tr>\n",
       "      <th>Timepoint</th>\n",
       "      <th></th>\n",
       "      <th></th>\n",
       "      <th></th>\n",
       "      <th></th>\n",
       "      <th></th>\n",
       "      <th></th>\n",
       "      <th></th>\n",
       "      <th></th>\n",
       "      <th></th>\n",
       "      <th></th>\n",
       "    </tr>\n",
       "  </thead>\n",
       "  <tbody>\n",
       "    <tr>\n",
       "      <th>0</th>\n",
       "      <td>0.000000</td>\n",
       "      <td>0.000000</td>\n",
       "      <td>0.000000</td>\n",
       "      <td>0.000000</td>\n",
       "      <td>0.000000</td>\n",
       "      <td>0.000000</td>\n",
       "      <td>0.000000</td>\n",
       "      <td>0.000000</td>\n",
       "      <td>0.000000</td>\n",
       "      <td>0.000000</td>\n",
       "    </tr>\n",
       "    <tr>\n",
       "      <th>5</th>\n",
       "      <td>0.448593</td>\n",
       "      <td>0.164505</td>\n",
       "      <td>0.235102</td>\n",
       "      <td>0.264819</td>\n",
       "      <td>0.202385</td>\n",
       "      <td>0.218091</td>\n",
       "      <td>0.231708</td>\n",
       "      <td>0.482955</td>\n",
       "      <td>0.239862</td>\n",
       "      <td>0.188950</td>\n",
       "    </tr>\n",
       "    <tr>\n",
       "      <th>10</th>\n",
       "      <td>0.702684</td>\n",
       "      <td>0.236144</td>\n",
       "      <td>0.282346</td>\n",
       "      <td>0.357421</td>\n",
       "      <td>0.319415</td>\n",
       "      <td>0.402064</td>\n",
       "      <td>0.376195</td>\n",
       "      <td>0.720225</td>\n",
       "      <td>0.433678</td>\n",
       "      <td>0.263949</td>\n",
       "    </tr>\n",
       "    <tr>\n",
       "      <th>15</th>\n",
       "      <td>0.838617</td>\n",
       "      <td>0.332053</td>\n",
       "      <td>0.357705</td>\n",
       "      <td>0.580268</td>\n",
       "      <td>0.444378</td>\n",
       "      <td>0.614461</td>\n",
       "      <td>0.466109</td>\n",
       "      <td>0.770432</td>\n",
       "      <td>0.493261</td>\n",
       "      <td>0.370544</td>\n",
       "    </tr>\n",
       "    <tr>\n",
       "      <th>20</th>\n",
       "      <td>0.909731</td>\n",
       "      <td>0.359482</td>\n",
       "      <td>0.476210</td>\n",
       "      <td>0.726484</td>\n",
       "      <td>0.595260</td>\n",
       "      <td>0.839609</td>\n",
       "      <td>0.555181</td>\n",
       "      <td>0.786199</td>\n",
       "      <td>0.621889</td>\n",
       "      <td>0.533182</td>\n",
       "    </tr>\n",
       "    <tr>\n",
       "      <th>25</th>\n",
       "      <td>0.881642</td>\n",
       "      <td>0.439356</td>\n",
       "      <td>0.550315</td>\n",
       "      <td>0.755413</td>\n",
       "      <td>0.813706</td>\n",
       "      <td>1.034872</td>\n",
       "      <td>0.577401</td>\n",
       "      <td>0.746991</td>\n",
       "      <td>0.741922</td>\n",
       "      <td>0.602513</td>\n",
       "    </tr>\n",
       "    <tr>\n",
       "      <th>30</th>\n",
       "      <td>0.934460</td>\n",
       "      <td>0.490620</td>\n",
       "      <td>0.631061</td>\n",
       "      <td>0.934121</td>\n",
       "      <td>0.975496</td>\n",
       "      <td>1.218231</td>\n",
       "      <td>0.746045</td>\n",
       "      <td>0.864906</td>\n",
       "      <td>0.899548</td>\n",
       "      <td>0.800043</td>\n",
       "    </tr>\n",
       "    <tr>\n",
       "      <th>35</th>\n",
       "      <td>1.052241</td>\n",
       "      <td>0.692248</td>\n",
       "      <td>0.984155</td>\n",
       "      <td>1.127867</td>\n",
       "      <td>1.013769</td>\n",
       "      <td>1.287481</td>\n",
       "      <td>1.084929</td>\n",
       "      <td>0.967433</td>\n",
       "      <td>1.003186</td>\n",
       "      <td>0.881426</td>\n",
       "    </tr>\n",
       "    <tr>\n",
       "      <th>40</th>\n",
       "      <td>1.223608</td>\n",
       "      <td>0.708505</td>\n",
       "      <td>1.055220</td>\n",
       "      <td>1.158449</td>\n",
       "      <td>1.118567</td>\n",
       "      <td>1.370634</td>\n",
       "      <td>1.564779</td>\n",
       "      <td>1.128445</td>\n",
       "      <td>1.410435</td>\n",
       "      <td>0.998515</td>\n",
       "    </tr>\n",
       "    <tr>\n",
       "      <th>45</th>\n",
       "      <td>1.223977</td>\n",
       "      <td>0.902358</td>\n",
       "      <td>1.144427</td>\n",
       "      <td>1.453186</td>\n",
       "      <td>1.416363</td>\n",
       "      <td>1.351726</td>\n",
       "      <td>1.888586</td>\n",
       "      <td>1.226805</td>\n",
       "      <td>1.576556</td>\n",
       "      <td>1.003576</td>\n",
       "    </tr>\n",
       "  </tbody>\n",
       "</table>\n",
       "</div>"
      ],
      "text/plain": [
       "Drug       Capomulin  Ceftamin  Infubinol  Ketapril  Naftisol   Placebo  \\\n",
       "Timepoint                                                                 \n",
       "0           0.000000  0.000000   0.000000  0.000000  0.000000  0.000000   \n",
       "5           0.448593  0.164505   0.235102  0.264819  0.202385  0.218091   \n",
       "10          0.702684  0.236144   0.282346  0.357421  0.319415  0.402064   \n",
       "15          0.838617  0.332053   0.357705  0.580268  0.444378  0.614461   \n",
       "20          0.909731  0.359482   0.476210  0.726484  0.595260  0.839609   \n",
       "25          0.881642  0.439356   0.550315  0.755413  0.813706  1.034872   \n",
       "30          0.934460  0.490620   0.631061  0.934121  0.975496  1.218231   \n",
       "35          1.052241  0.692248   0.984155  1.127867  1.013769  1.287481   \n",
       "40          1.223608  0.708505   1.055220  1.158449  1.118567  1.370634   \n",
       "45          1.223977  0.902358   1.144427  1.453186  1.416363  1.351726   \n",
       "\n",
       "Drug       Propriva  Ramicane  Stelasyn  Zoniferol  \n",
       "Timepoint                                           \n",
       "0          0.000000  0.000000  0.000000   0.000000  \n",
       "5          0.231708  0.482955  0.239862   0.188950  \n",
       "10         0.376195  0.720225  0.433678   0.263949  \n",
       "15         0.466109  0.770432  0.493261   0.370544  \n",
       "20         0.555181  0.786199  0.621889   0.533182  \n",
       "25         0.577401  0.746991  0.741922   0.602513  \n",
       "30         0.746045  0.864906  0.899548   0.800043  \n",
       "35         1.084929  0.967433  1.003186   0.881426  \n",
       "40         1.564779  1.128445  1.410435   0.998515  \n",
       "45         1.888586  1.226805  1.576556   1.003576  "
      ]
     },
     "execution_count": 13,
     "metadata": {},
     "output_type": "execute_result"
    }
   ],
   "source": [
    "#Calculating error and converting it to the pivot table\n",
    "CMD_TumVol_SEM = CMD_TumVol.groupby([\"Drug\",\"Timepoint\"])[\"Tumor Volume (mm3)\"].sem()\n",
    "CMD_TumVol_SEM = CMD_TumVol_SEM.reset_index()\n",
    "CMD_TumVol_SEM = pd.DataFrame(CMD_TumVol_SEM)\n",
    "CMD_TumVol_SEM_PT = CMD_TumVol_SEM.pivot_table(index=\"Timepoint\",columns=\"Drug\",values=\"Tumor Volume (mm3)\") \n",
    "CMD_TumVol_SEM_PT"
   ]
  },
  {
   "cell_type": "code",
   "execution_count": 14,
   "metadata": {},
   "outputs": [
    {
     "data": {
      "image/png": "[encoded data removed]",
      "text/plain": [
       "<matplotlib.figure.Figure at 0x177644f9a20>"
      ]
     },
     "metadata": {},
     "output_type": "display_data"
    }
   ],
   "source": [
    "plt.errorbar(CMD_TumVol_PivotTable.index, CMD_TumVol_PivotTable[\"Capomulin\"],\n",
    "             yerr=CMD_TumVol_SEM_PT[\"Capomulin\"],linewidth=0.5,color=\"r\",linestyle=\"--\",\n",
    "             marker='o',markeredgecolor=\"black\",label=\"Capomulin\")\n",
    "plt.errorbar(CMD_TumVol_PivotTable.index, CMD_TumVol_PivotTable[\"Infubinol\"],\n",
    "             yerr=CMD_TumVol_SEM_PT[\"Infubinol\"],\n",
    "          linewidth=0.5,color=\"b\",linestyle=\"--\",marker='^',markeredgecolor=\"black\",label=\"Infubinol\")\n",
    "plt.errorbar(CMD_TumVol_PivotTable.index, CMD_TumVol_PivotTable[\"Ketapril\"],\n",
    "             yerr=CMD_TumVol_SEM_PT[\"Ketapril\"],\n",
    "          linewidth=0.5,color=\"g\",linestyle=\"--\",marker='s',markeredgecolor=\"black\",label=\"Ketapril\")\n",
    "plt.errorbar(CMD_TumVol_PivotTable.index, CMD_TumVol_PivotTable[\"Placebo\"],\n",
    "              yerr=CMD_TumVol_SEM_PT[\"Placebo\"], \n",
    "          linewidth=0.5,color=\"black\",linestyle=\"--\",marker='d',markeredgecolor=\"black\",label=\"Placebo\")\n",
    "plt.legend(numpoints=2,loc=\"best\")\n",
    "plt.xlim(0,CMD[\"Timepoint\"].max())\n",
    "plt.ylim(0,CMD[\"Tumor Volume (mm3)\"].max()+10)\n",
    "plt.xlabel(\"Time(Days)\")\n",
    "plt.ylabel(\"Tumor Volume (mm3)\")\n",
    "plt.title(\"Tumor response to treatment\")\n",
    "plt.grid(color='black', linestyle=':',alpha=0.5)\n",
    "plt.tight_layout()\n",
    "plt.show()"
   ]
  },
  {
   "cell_type": "markdown",
   "metadata": {
    "collapsed": true
   },
   "source": [
    "# Metastatic Response to Treatment"
   ]
  },
  {
   "cell_type": "code",
   "execution_count": 15,
   "metadata": {},
   "outputs": [],
   "source": [
    "CMD_MetSite = CMD.loc[:,[\"Drug\",\"Timepoint\",\"Metastatic Sites\"]]"
   ]
  },
  {
   "cell_type": "code",
   "execution_count": 16,
   "metadata": {},
   "outputs": [],
   "source": [
    "#Method 1 - Using Pivot Table with errorbar"
   ]
  },
  {
   "cell_type": "code",
   "execution_count": 17,
   "metadata": {},
   "outputs": [],
   "source": [
    "CMD_MetSite_Sem = CMD_MetSite.groupby([\"Drug\",\"Timepoint\"])[\"Metastatic Sites\"].sem()\n",
    "CMD_MetSite_Sem = CMD_MetSite_Sem.reset_index()\n",
    "CMD_MedSite_Sem = pd.DataFrame(CMD_MetSite_Sem)\n",
    "CMD_MedSite_Sem_PT = CMD_MedSite_Sem.pivot_table(index=\"Timepoint\",\n",
    "                                                 columns=\"Drug\",\n",
    "                                                 values=\"Metastatic Sites\")\n",
    "#CMD_MedSite_Sem_PT"
   ]
  },
  {
   "cell_type": "code",
   "execution_count": 18,
   "metadata": {},
   "outputs": [],
   "source": [
    "CMD_MetSite_G = CMD_MetSite.groupby([\"Drug\",\"Timepoint\"])[\"Metastatic Sites\"].mean()"
   ]
  },
  {
   "cell_type": "code",
   "execution_count": 19,
   "metadata": {},
   "outputs": [],
   "source": [
    "CMD_MetSite_GD = pd.DataFrame(CMD_MetSite_G)\n",
    "#CMD_MetSite_GD.head()"
   ]
  },
  {
   "cell_type": "code",
   "execution_count": 20,
   "metadata": {},
   "outputs": [],
   "source": [
    "CMD_MetSite_P = CMD_MetSite_G.reset_index()"
   ]
  },
  {
   "cell_type": "code",
   "execution_count": 21,
   "metadata": {
    "scrolled": true
   },
   "outputs": [],
   "source": [
    "CMD_MetSite_PD = pd.DataFrame(CMD_MetSite_P)\n",
    "#CMD_MetSite_PD.head()"
   ]
  },
  {
   "cell_type": "code",
   "execution_count": 22,
   "metadata": {},
   "outputs": [],
   "source": [
    "CMD_MetSite_PivotTable = CMD_MetSite_PD.pivot_table(index=\"Timepoint\",\n",
    "                                                    columns=\"Drug\",\n",
    "                                                    values=\"Metastatic Sites\")\n",
    "#CMD_MetSite_PivotTable"
   ]
  },
  {
   "cell_type": "code",
   "execution_count": 23,
   "metadata": {},
   "outputs": [
    {
     "data": {
      "image/png": "[encoded data removed]",
      "text/plain": [
       "<matplotlib.figure.Figure at 0x1776453c320>"
      ]
     },
     "metadata": {},
     "output_type": "display_data"
    }
   ],
   "source": [
    "plt.errorbar(CMD_MetSite_PivotTable.index, CMD_MetSite_PivotTable[\"Capomulin\"],\n",
    "             yerr=CMD_MedSite_Sem_PT[\"Capomulin\"],linewidth=0.5,color=\"r\",linestyle=\"--\",\n",
    "             marker='o',markeredgecolor=\"black\",label=\"Capomulin\")\n",
    "plt.errorbar(CMD_MetSite_PivotTable.index, CMD_MetSite_PivotTable[\"Infubinol\"],\n",
    "             yerr=CMD_MedSite_Sem_PT[\"Infubinol\"],\n",
    "          linewidth=0.5,color=\"b\",linestyle=\"--\",marker='^',markeredgecolor=\"black\",label=\"Infubinol\")\n",
    "plt.errorbar(CMD_MetSite_PivotTable.index, CMD_MetSite_PivotTable[\"Ketapril\"],\n",
    "             yerr=CMD_MedSite_Sem_PT[\"Ketapril\"],\n",
    "          linewidth=0.5,color=\"g\",linestyle=\"--\",marker='s',markeredgecolor=\"black\",label=\"Ketapril\")\n",
    "plt.errorbar(CMD_MetSite_PivotTable.index, CMD_MetSite_PivotTable[\"Placebo\"],\n",
    "              yerr=CMD_MedSite_Sem_PT[\"Placebo\"], \n",
    "          linewidth=0.5,color=\"black\",linestyle=\"--\",marker='d',markeredgecolor=\"black\",label=\"Placebo\")\n",
    "\n",
    "plt.xlim(0,CMD_MetSite[\"Timepoint\"].max())\n",
    "plt.ylim(0,CMD_MetSite[\"Metastatic Sites\"].max())\n",
    "plt.legend(numpoints=2,loc=\"best\")\n",
    "plt.grid(linestyle=\":\",alpha=0.5)\n",
    "plt.xlabel(\"Treatment Duration (Days)\")\n",
    "plt.ylabel(\"Met. Sites\")\n",
    "plt.title(\"Metastatic Spred During Treatment\")\n",
    "plt.tight_layout()\n",
    "plt.show()"
   ]
  },
  {
   "cell_type": "markdown",
   "metadata": {},
   "source": [
    "# Survival Rates"
   ]
  },
  {
   "cell_type": "code",
   "execution_count": 24,
   "metadata": {},
   "outputs": [],
   "source": [
    "CMD_Survival = CMD.loc[:,[\"Drug\",\"Timepoint\",\"Mouse ID\"]]\n",
    "CMD_Survival = CMD_Survival.rename(columns={\"Mouse ID\":\"Mouse Count\"})"
   ]
  },
  {
   "cell_type": "code",
   "execution_count": 25,
   "metadata": {},
   "outputs": [
    {
     "data": {
      "text/html": [
       "<div>\n",
       "<table border=\"1\" class=\"dataframe\">\n",
       "  <thead>\n",
       "    <tr style=\"text-align: right;\">\n",
       "      <th></th>\n",
       "      <th></th>\n",
       "      <th>Mouse Count</th>\n",
       "    </tr>\n",
       "    <tr>\n",
       "      <th>Drug</th>\n",
       "      <th>Timepoint</th>\n",
       "      <th></th>\n",
       "    </tr>\n",
       "  </thead>\n",
       "  <tbody>\n",
       "    <tr>\n",
       "      <th rowspan=\"5\" valign=\"top\">Capomulin</th>\n",
       "      <th>0</th>\n",
       "      <td>25</td>\n",
       "    </tr>\n",
       "    <tr>\n",
       "      <th>5</th>\n",
       "      <td>25</td>\n",
       "    </tr>\n",
       "    <tr>\n",
       "      <th>10</th>\n",
       "      <td>25</td>\n",
       "    </tr>\n",
       "    <tr>\n",
       "      <th>15</th>\n",
       "      <td>24</td>\n",
       "    </tr>\n",
       "    <tr>\n",
       "      <th>20</th>\n",
       "      <td>23</td>\n",
       "    </tr>\n",
       "  </tbody>\n",
       "</table>\n",
       "</div>"
      ],
      "text/plain": [
       "                     Mouse Count\n",
       "Drug      Timepoint             \n",
       "Capomulin 0                   25\n",
       "          5                   25\n",
       "          10                  25\n",
       "          15                  24\n",
       "          20                  23"
      ]
     },
     "execution_count": 25,
     "metadata": {},
     "output_type": "execute_result"
    }
   ],
   "source": [
    "CMD_Survival_G = CMD_Survival.groupby([\"Drug\",\"Timepoint\"])[\"Mouse Count\"].count()\n",
    "CMD_Survival_G = pd.DataFrame(CMD_Survival_G)\n",
    "CMD_Survival_G.head()"
   ]
  },
  {
   "cell_type": "code",
   "execution_count": 26,
   "metadata": {},
   "outputs": [],
   "source": [
    "#Method 1 - Without errorbar)"
   ]
  },
  {
   "cell_type": "code",
   "execution_count": 27,
   "metadata": {},
   "outputs": [],
   "source": [
    "CMD_Survival_P = CMD_Survival_G.reset_index()\n",
    "CMD_Survival_P = pd.DataFrame(CMD_Survival_P)\n",
    "#CMD_Survival_P"
   ]
  },
  {
   "cell_type": "code",
   "execution_count": 28,
   "metadata": {},
   "outputs": [],
   "source": [
    "CMD_Survival.PivotTable = CMD_Survival_P.pivot_table(values=\"Mouse Count\",index=\"Timepoint\",\n",
    "                                                     columns=\"Drug\")\n",
    "#CMD_Survival.PivotTable"
   ]
  },
  {
   "cell_type": "code",
   "execution_count": 29,
   "metadata": {},
   "outputs": [
    {
     "data": {
      "image/png": "[encoded data removed]",
      "text/plain": [
       "<matplotlib.figure.Figure at 0x17764649c18>"
      ]
     },
     "metadata": {},
     "output_type": "display_data"
    }
   ],
   "source": [
    "HandleC,= plt.plot(CMD_Survival.PivotTable.index, (CMD_Survival.PivotTable[\"Capomulin\"]/CMD_Survival.PivotTable[\"Capomulin\"][0])*100,\n",
    "          linewidth=0.5,color=\"r\",linestyle=\"--\",marker='o',markeredgecolor=\"black\",label=\"Capomulin\")\n",
    "HandleI,= plt.plot(CMD_Survival.PivotTable.index, (CMD_Survival.PivotTable[\"Infubinol\"]/CMD_Survival.PivotTable[\"Infubinol\"][0])*100,\n",
    "          linewidth=0.5,color=\"b\",linestyle=\"--\",marker='^',markeredgecolor=\"black\",label=\"Infubinol\")\n",
    "HandleK,= plt.plot(CMD_Survival.PivotTable.index, (CMD_Survival.PivotTable[\"Ketapril\"]/CMD_Survival.PivotTable[\"Ketapril\"][0])*100,\n",
    "          linewidth=0.5,color=\"g\",linestyle=\"--\",marker='s',markeredgecolor=\"black\",label=\"Ketapril\")\n",
    "HandleP,= plt.plot(CMD_Survival.PivotTable.index, (CMD_Survival.PivotTable[\"Placebo\"]/CMD_Survival.PivotTable[\"Placebo\"][0])*100,\n",
    "          linewidth=0.5,color=\"black\",linestyle=\"--\",marker='d',markeredgecolor=\"black\",label=\"Placebo\")\n",
    "plt.legend(handles=[HandleC,HandleI,HandleK,HandleP],numpoints=2)\n",
    "plt.xlim(-.5,45.5)\n",
    "plt.xlabel(\"Time(Days)\")\n",
    "plt.ylabel(\"Survival Rate(%)\")\n",
    "plt.title(\"Survival During Treatment\")\n",
    "plt.grid(color='black', linestyle=':',alpha=0.5)\n",
    "plt.tight_layout()\n",
    "plt.show()"
   ]
  },
  {
   "cell_type": "code",
   "execution_count": 30,
   "metadata": {},
   "outputs": [],
   "source": [
    "#Method 2 - With errorbar"
   ]
  },
  {
   "cell_type": "code",
   "execution_count": 31,
   "metadata": {},
   "outputs": [
    {
     "data": {
      "image/png": "[encoded data removed]",
      "text/plain": [
       "<matplotlib.figure.Figure at 0x1776465fd30>"
      ]
     },
     "metadata": {},
     "output_type": "display_data"
    }
   ],
   "source": [
    "plt.errorbar(CMD_MetSite_PivotTable.index, CMD_MetSite_PivotTable[\"Capomulin\"],\n",
    "             yerr=CMD_MedSite_Sem_PT[\"Capomulin\"],linewidth=0.5,color=\"r\",linestyle=\"--\",\n",
    "             marker='o',markeredgecolor=\"black\",label=\"Capomulin\")\n",
    "plt.errorbar(CMD_MetSite_PivotTable.index, CMD_MetSite_PivotTable[\"Infubinol\"],\n",
    "             yerr=CMD_MedSite_Sem_PT[\"Infubinol\"],\n",
    "          linewidth=0.5,color=\"b\",linestyle=\"--\",marker='^',markeredgecolor=\"black\",label=\"Infubinol\")\n",
    "plt.errorbar(CMD_MetSite_PivotTable.index, CMD_MetSite_PivotTable[\"Ketapril\"],\n",
    "             yerr=CMD_MedSite_Sem_PT[\"Ketapril\"],\n",
    "          linewidth=0.5,color=\"g\",linestyle=\"--\",marker='s',markeredgecolor=\"black\",label=\"Ketapril\")\n",
    "plt.errorbar(CMD_MetSite_PivotTable.index, CMD_MetSite_PivotTable[\"Placebo\"],\n",
    "              yerr=CMD_MedSite_Sem_PT[\"Placebo\"], \n",
    "          linewidth=0.5,color=\"black\",linestyle=\"--\",marker='d',markeredgecolor=\"black\",label=\"Placebo\")\n",
    "\n",
    "plt.xlim(0,CMD_MetSite[\"Timepoint\"].max())\n",
    "plt.ylim(0,CMD_MetSite[\"Metastatic Sites\"].max())\n",
    "plt.legend(numpoints=2,loc=\"best\")\n",
    "plt.grid(linestyle=\":\",alpha=0.5)\n",
    "plt.xlabel(\"Treatment Duration (Days)\")\n",
    "plt.ylabel(\"Met. Sites\")\n",
    "plt.title(\"Metastatic Spred During Treatment\")\n",
    "plt.tight_layout()\n",
    "plt.show()"
   ]
  },
  {
   "cell_type": "markdown",
   "metadata": {
    "collapsed": true
   },
   "source": [
    "# Summary Bar Graph"
   ]
  },
  {
   "cell_type": "code",
   "execution_count": 32,
   "metadata": {},
   "outputs": [
    {
     "data": {
      "text/html": [
       "<div>\n",
       "<table border=\"1\" class=\"dataframe\">\n",
       "  <thead>\n",
       "    <tr style=\"text-align: right;\">\n",
       "      <th></th>\n",
       "      <th>Drug</th>\n",
       "      <th>Total Volume Percent Change</th>\n",
       "    </tr>\n",
       "  </thead>\n",
       "  <tbody>\n",
       "    <tr>\n",
       "      <th>0</th>\n",
       "      <td>Capomulin</td>\n",
       "      <td>-19.475303</td>\n",
       "    </tr>\n",
       "    <tr>\n",
       "      <th>1</th>\n",
       "      <td>Ceftamin</td>\n",
       "      <td>42.516492</td>\n",
       "    </tr>\n",
       "    <tr>\n",
       "      <th>2</th>\n",
       "      <td>Infubinol</td>\n",
       "      <td>46.123472</td>\n",
       "    </tr>\n",
       "    <tr>\n",
       "      <th>3</th>\n",
       "      <td>Ketapril</td>\n",
       "      <td>57.028795</td>\n",
       "    </tr>\n",
       "    <tr>\n",
       "      <th>4</th>\n",
       "      <td>Naftisol</td>\n",
       "      <td>53.923347</td>\n",
       "    </tr>\n",
       "    <tr>\n",
       "      <th>5</th>\n",
       "      <td>Placebo</td>\n",
       "      <td>51.297960</td>\n",
       "    </tr>\n",
       "    <tr>\n",
       "      <th>6</th>\n",
       "      <td>Propriva</td>\n",
       "      <td>47.241175</td>\n",
       "    </tr>\n",
       "    <tr>\n",
       "      <th>7</th>\n",
       "      <td>Ramicane</td>\n",
       "      <td>-22.320900</td>\n",
       "    </tr>\n",
       "    <tr>\n",
       "      <th>8</th>\n",
       "      <td>Stelasyn</td>\n",
       "      <td>52.085134</td>\n",
       "    </tr>\n",
       "    <tr>\n",
       "      <th>9</th>\n",
       "      <td>Zoniferol</td>\n",
       "      <td>46.579751</td>\n",
       "    </tr>\n",
       "  </tbody>\n",
       "</table>\n",
       "</div>"
      ],
      "text/plain": [
       "        Drug  Total Volume Percent Change\n",
       "0  Capomulin                   -19.475303\n",
       "1   Ceftamin                    42.516492\n",
       "2  Infubinol                    46.123472\n",
       "3   Ketapril                    57.028795\n",
       "4   Naftisol                    53.923347\n",
       "5    Placebo                    51.297960\n",
       "6   Propriva                    47.241175\n",
       "7   Ramicane                   -22.320900\n",
       "8   Stelasyn                    52.085134\n",
       "9  Zoniferol                    46.579751"
      ]
     },
     "execution_count": 32,
     "metadata": {},
     "output_type": "execute_result"
    }
   ],
   "source": [
    "TumVol_Per_Chg =  (CMD_TumVol_PivotTable.iloc[-1] - CMD_TumVol_PivotTable.iloc[0]) / CMD_TumVol_PivotTable.iloc[0] * 100\n",
    "TumVol_Per_Chg = TumVol_Per_Chg.reset_index()\n",
    "TumVol_Per_Chg = pd.DataFrame(TumVol_Per_Chg)\n",
    "TumVol_Per_Chg.rename(columns={0:\"Total Volume Percent Change\"},inplace=True)\n",
    "TumVol_Per_Chg"
   ]
  },
  {
   "cell_type": "code",
   "execution_count": 33,
   "metadata": {},
   "outputs": [
    {
     "data": {
      "text/html": [
       "<div>\n",
       "<table border=\"1\" class=\"dataframe\">\n",
       "  <thead>\n",
       "    <tr style=\"text-align: right;\">\n",
       "      <th></th>\n",
       "      <th>Drug</th>\n",
       "      <th>Total Volume Percent Change</th>\n",
       "      <th>Sign</th>\n",
       "    </tr>\n",
       "  </thead>\n",
       "  <tbody>\n",
       "    <tr>\n",
       "      <th>0</th>\n",
       "      <td>Capomulin</td>\n",
       "      <td>-19.475303</td>\n",
       "      <td>True</td>\n",
       "    </tr>\n",
       "    <tr>\n",
       "      <th>2</th>\n",
       "      <td>Infubinol</td>\n",
       "      <td>46.123472</td>\n",
       "      <td>False</td>\n",
       "    </tr>\n",
       "    <tr>\n",
       "      <th>3</th>\n",
       "      <td>Ketapril</td>\n",
       "      <td>57.028795</td>\n",
       "      <td>False</td>\n",
       "    </tr>\n",
       "    <tr>\n",
       "      <th>5</th>\n",
       "      <td>Placebo</td>\n",
       "      <td>51.297960</td>\n",
       "      <td>False</td>\n",
       "    </tr>\n",
       "  </tbody>\n",
       "</table>\n",
       "</div>"
      ],
      "text/plain": [
       "        Drug  Total Volume Percent Change   Sign\n",
       "0  Capomulin                   -19.475303   True\n",
       "2  Infubinol                    46.123472  False\n",
       "3   Ketapril                    57.028795  False\n",
       "5    Placebo                    51.297960  False"
      ]
     },
     "execution_count": 33,
     "metadata": {},
     "output_type": "execute_result"
    }
   ],
   "source": [
    "TumVol_Per_Chg_CIKP = TumVol_Per_Chg.loc[TumVol_Per_Chg[\"Drug\"].isin\n",
    "                                         ([\"Capomulin\",\"Infubinol\",\"Ketapril\",\"Placebo\"]),\n",
    "                                         [\"Drug\",\"Total Volume Percent Change\"]]\n",
    "TumVol_Per_Chg_CIKP[\"Sign\"] = (TumVol_Per_Chg_CIKP[\"Total Volume Percent Change\"] < 0)\n",
    "TumVol_Per_Chg_CIKP"
   ]
  },
  {
   "cell_type": "code",
   "execution_count": 34,
   "metadata": {},
   "outputs": [],
   "source": [
    "x_axis = np.arange(len(TumVol_Per_Chg_CIKP))\n",
    "x_ticks = TumVol_Per_Chg_CIKP[\"Drug\"]\n",
    "x_ticks_list = list(x_ticks)"
   ]
  },
  {
   "cell_type": "code",
   "execution_count": 35,
   "metadata": {
    "scrolled": true
   },
   "outputs": [
    {
     "data": {
      "image/png": "[encoded data removed]",
      "text/plain": [
       "<matplotlib.figure.Figure at 0x177645d05f8>"
      ]
     },
     "metadata": {},
     "output_type": "display_data"
    }
   ],
   "source": [
    "plt.bar(x_axis,TumVol_Per_Chg_CIKP[\"Total Volume Percent Change\"],\n",
    "        color=TumVol_Per_Chg_CIKP[\"Sign\"].map({True:\"g\",False:\"r\"}))      \n",
    "\n",
    "plt.hlines(0, 0, len(x_axis), alpha=0.2)\n",
    "plt.xticks(x_axis,x_ticks_list)\n",
    "plt.title(\"Tumor over 45 days treatement\")\n",
    "plt.grid(linestyle=\":\",alpha=0.5)\n",
    "for a,b in zip(x_axis, round(TumVol_Per_Chg_CIKP[\"Total Volume Percent Change\"])):\n",
    "    plt.text(a, b, str(b))\n",
    "plt.show()"
   ]
  }
 ],
 "metadata": {
  "kernelspec": {
   "display_name": "Python 3",
   "language": "python",
   "name": "python3"
  },
  "language_info": {
   "codemirror_mode": {
    "name": "ipython",
    "version": 3
   },
   "file_extension": ".py",
   "mimetype": "text/x-python",
   "name": "python",
   "nbconvert_exporter": "python",
   "pygments_lexer": "ipython3",
   "version": "3.6.0"
  }
 },
 "nbformat": 4,
 "nbformat_minor": 2
}
